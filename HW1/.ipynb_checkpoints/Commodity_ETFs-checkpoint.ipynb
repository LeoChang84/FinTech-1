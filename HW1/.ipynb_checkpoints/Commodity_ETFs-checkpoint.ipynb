{
 "cells": [
  {
   "cell_type": "markdown",
   "metadata": {},
   "source": [
    "# 目的  \n",
    "利用爬蟲方法整理出Commodity中的Crude Oil及Gold每一檔ETF，其每月月底的基金淨值(NAV)。\n",
    "時間範圍：2015年12月至2018年12月"
   ]
  },
  {
   "cell_type": "markdown",
   "metadata": {},
   "source": [
    "## STEP1：  \n",
    "讀取 Crude Oil ETF List 及 Gold ETF List 進行篩選Inception有小於2015/12/31的ETF  \n",
    "檔案：Crude Oil ETF List (22).csv 及 Gold ETF List (17).csv"
   ]
  },
  {
   "cell_type": "code",
   "execution_count": 3,
   "metadata": {},
   "outputs": [
    {
     "name": "stdout",
     "output_type": "stream",
     "text": [
      "['USO', 'UCO', 'DBO', 'SCO', 'USL', 'UWTI', 'DTO', 'DWTI', 'OLO', 'OLEM', 'SZO']\n",
      "['GLD', 'IAU', 'SGOL', 'OUNZ', 'UGLD', 'DGL', 'UGL', 'DGP', 'GLL', 'DZZ', 'DGLD', 'DGZ', 'UBG']\n"
     ]
    }
   ],
   "source": [
    "#----------資料讀入並進行篩選----------\n",
    "import pandas as pd\n",
    "CrudeOilETF= pd.read_csv('Crude Oil ETF List (22).csv') #讀檔\n",
    "fliter = (CrudeOilETF[\"Inception\"] < '2015-12-31') #Inception條件判斷進行篩選\n",
    "newCrudeOilETF = CrudeOilETF[fliter] #Crude Oil ETF List篩選結果\n",
    "\n",
    "GoldETF= pd.read_csv('Gold ETF List (17).csv') #讀檔\n",
    "fliter = (GoldETF[\"Inception\"] < '2015-12-31') #Inception條件判斷進行篩選\n",
    "newGoldETF = GoldETF[fliter] #Gold ETF List篩選結果\n",
    "\n",
    "#將符合的ETF代碼轉換為List\n",
    "CrudeOilETFList = newCrudeOilETF['Symbol'].values.tolist()\n",
    "GoldETList = newGoldETF['Symbol'].values.tolist() \n",
    "\n",
    "SymbolList = CrudeOilETFList+GoldETList\n",
    "print(CrudeOilETFList)\n",
    "print(GoldETList)"
   ]
  },
  {
   "cell_type": "markdown",
   "metadata": {},
   "source": [
    "## STEP2：\n",
    "進行爬蟲動作  \n",
    "2015年12月~2018年12月 COMMODITY ETFs 月底基金淨值來源:  \n",
    "https://www.moneydj.com/etf/x/Basic/ETF/X/xdjbcd/Basic0003BCD.xdjbcd?etfid=+[代號]+&b=+[開始日期]+&c=+[結束日期]"
   ]
  },
  {
   "cell_type": "code",
   "execution_count": 4,
   "metadata": {},
   "outputs": [
    {
     "ename": "AttributeError",
     "evalue": "module 'datetime' has no attribute 'strptime'",
     "output_type": "error",
     "traceback": [
      "\u001b[1;31m---------------------------------------------------------------------------\u001b[0m",
      "\u001b[1;31mAttributeError\u001b[0m                            Traceback (most recent call last)",
      "\u001b[1;32m<ipython-input-4-74af88bc0728>\u001b[0m in \u001b[0;36m<module>\u001b[1;34m()\u001b[0m\n\u001b[0;32m      3\u001b[0m \u001b[0mstart_date\u001b[0m \u001b[1;33m=\u001b[0m \u001b[1;34m\"2015-12-31\"\u001b[0m\u001b[1;33m\u001b[0m\u001b[0m\n\u001b[0;32m      4\u001b[0m \u001b[0mstop_date\u001b[0m \u001b[1;33m=\u001b[0m \u001b[1;34m\"2018-12-31\"\u001b[0m\u001b[1;33m\u001b[0m\u001b[0m\n\u001b[1;32m----> 5\u001b[1;33m \u001b[0mstart\u001b[0m \u001b[1;33m=\u001b[0m \u001b[0mdatetime\u001b[0m\u001b[1;33m.\u001b[0m\u001b[0mstrptime\u001b[0m\u001b[1;33m(\u001b[0m\u001b[0mstart_date\u001b[0m\u001b[1;33m,\u001b[0m \u001b[1;34m\"%Y-%m-%d\"\u001b[0m\u001b[1;33m)\u001b[0m\u001b[1;33m\u001b[0m\u001b[0m\n\u001b[0m\u001b[0;32m      6\u001b[0m \u001b[0mstop\u001b[0m \u001b[1;33m=\u001b[0m \u001b[0mdatetime\u001b[0m\u001b[1;33m.\u001b[0m\u001b[0mstrptime\u001b[0m\u001b[1;33m(\u001b[0m\u001b[0mstop_date\u001b[0m\u001b[1;33m,\u001b[0m \u001b[1;34m\"%Y-%m-%d\"\u001b[0m\u001b[1;33m)\u001b[0m\u001b[1;33m\u001b[0m\u001b[0m\n",
      "\u001b[1;31mAttributeError\u001b[0m: module 'datetime' has no attribute 'strptime'"
     ]
    }
   ],
   "source": [
    "#設置日期範圍\n",
    "import datetime\n",
    "start_date = \"2015-12-31\"\n",
    "stop_date = \"2018-12-31\"\n",
    "start = datetime.strptime(start_date, \"%Y-%m-%d\")\n",
    "stop = datetime.strptime(stop_date, \"%Y-%m-%d\")"
   ]
  },
  {
   "cell_type": "code",
   "execution_count": null,
   "metadata": {},
   "outputs": [],
   "source": [
    "import requests\n",
    "from bs4 import BeautifulSoup as bs\n",
    "from dateutil.relativedelta import relativedelta"
   ]
  },
  {
   "cell_type": "code",
   "execution_count": null,
   "metadata": {},
   "outputs": [],
   "source": [
    "def process_document(document, Symbol, start, stop):\n",
    "    nodes = document.select('body > p')\n",
    "    content = nodes[0].get_text().split( )\n",
    "    arrayDate = content[0].split(',')\n",
    "    arrayNAV = content[1].split(',')\n",
    "    data = {'Date':arrayDate,\n",
    "        Symbol: arrayNAV}\n",
    "    df = pd.DataFrame.from_dict(data)\n",
    "    nwedf = pd.DataFrame()\n",
    "    while start <= stop:\n",
    "        nwedf = pd.concat([nwedf, df[df[\"Date\"] <= start.strftime('%Y%m%d')].iloc[-1:]], axis=0, ignore_index=True)\n",
    "        start = start + relativedelta(months=1) #每次增加一個月 \n",
    "    nwedf.set_index(\"Date\" , inplace=True)    \n",
    "    return nwedf"
   ]
  },
  {
   "cell_type": "code",
   "execution_count": null,
   "metadata": {},
   "outputs": [],
   "source": [
    "all_data = pd.DataFrame()\n",
    "for Symbol in SymbolList:\n",
    "    print('start crawling :', Symbol)\n",
    "    res = requests.get('https://www.moneydj.com/etf/x/Basic/ETF/X/xdjbcd/Basic0003BCD.xdjbcd?etfid='+Symbol+'&b='+start_date+'&c='+stop_date)\n",
    "    doc = bs(res.text, 'lxml')\n",
    "    if len(doc):\n",
    "        data = process_document(doc, Symbol,start,stop)\n",
    "        all_data = pd.concat([all_data, data], axis=1)\n",
    "    else:\n",
    "        print(\"已下檔\")"
   ]
  },
  {
   "cell_type": "code",
   "execution_count": null,
   "metadata": {
    "scrolled": true
   },
   "outputs": [],
   "source": [
    "#呈現COMMODITY ETFs 月底基金淨值的表格\n",
    "all_data"
   ]
  },
  {
   "cell_type": "code",
   "execution_count": null,
   "metadata": {},
   "outputs": [],
   "source": [
    "#資料視覺化\n",
    "all_data = all_data.astype(float)\n",
    "all_data = all_data.cumsum()\n",
    "all_data.plot(figsize=(15,9));"
   ]
  },
  {
   "cell_type": "code",
   "execution_count": null,
   "metadata": {},
   "outputs": [],
   "source": [
    "#下載存成.csv檔\n",
    "all_data.to_csv('COMMODITY_NAV.csv') "
   ]
  },
  {
   "cell_type": "code",
   "execution_count": null,
   "metadata": {},
   "outputs": [],
   "source": []
  }
 ],
 "metadata": {
  "kernelspec": {
   "display_name": "Python 3",
   "language": "python",
   "name": "python3"
  }
 },
 "nbformat": 4,
 "nbformat_minor": 2
}
